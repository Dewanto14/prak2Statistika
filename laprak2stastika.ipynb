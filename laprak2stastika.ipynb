{
 "cells": [
  {
   "cell_type": "code",
   "execution_count": 1,
   "id": "6c8cc7d1",
   "metadata": {},
   "outputs": [
    {
     "name": "stdout",
     "output_type": "stream",
     "text": [
      "Requirement already satisfied: mysql-connector-python in c:\\users\\huawei\\anaconda3\\lib\\site-packages (8.3.0)\n",
      "Note: you may need to restart the kernel to use updated packages.\n"
     ]
    }
   ],
   "source": [
    "pip install mysql-connector-python"
   ]
  },
  {
   "cell_type": "code",
   "execution_count": 2,
   "id": "777c7559",
   "metadata": {},
   "outputs": [
    {
     "name": "stdout",
     "output_type": "stream",
     "text": [
      "\n",
      "Hasil Kueri:\n",
      "('Ahmad', 'Male', 2022, 175, 60, 'Jakarta')\n",
      "('Felix', 'Male', 2023, 170, 75, 'Matraman')\n",
      "('Dony', 'Male', 2021, 165, 54, 'Bali')\n",
      "('Raisa', 'Female', 2024, 164, 25, 'Bandung')\n",
      "('Rayyan', 'Male', 2020, 178, 50, 'Kalimantan')\n",
      "('Bambang', 'Male', 2021, 165, 54, 'Batam')\n",
      "('Dewanto', 'Male', 2024, 171, 30, 'Jakarta')\n",
      "('Monic', 'Female', 2023, 164, 45, 'Tangerang')\n",
      "('Syifa', 'Female', 2021, 167, 43, 'Jakarta')\n",
      "('Jet', 'Male', 2023, 170, 45, 'Banten')\n",
      "('Aditya', 'Male', 2021, 167, 21, 'Jakarta')\n",
      "('Bayu', 'Male', 2023, 182, 120, 'Depok')\n",
      "('Demas', 'Male', 2023, 167, 34, 'Jakarta')\n",
      "('Dava', 'Male', 2021, 167, 56, 'Jakarta')\n",
      "('Nadhira', 'Female', 2023, 165, 30, 'Jakarta')\n"
     ]
    }
   ],
   "source": [
    "import mysql.connector\n",
    "\n",
    "# Membuat koneksi ke MySQL\n",
    "connection = mysql.connector.connect(\n",
    "    host=\"localhost\",\n",
    "    user=\"root\",\n",
    "    password=\"\",\n",
    "    database=\"ps2[dewa]\"\n",
    ")\n",
    "\n",
    "# Membuat objek cursor untuk mengeksekusi kueri\n",
    "cursor = connection.cursor()\n",
    "\n",
    "try:\n",
    "    # Mengeksekusi kueri SQL\n",
    "    my_query = \"SELECT * FROM `dataprak1`;\"\n",
    "    cursor.execute(my_query)\n",
    "    \n",
    "    # Mengambil semua hasil kueri\n",
    "    result = cursor.fetchall()\n",
    "    \n",
    "    # Menampilkan hasil kueri\n",
    "    print(\"\\nHasil Kueri:\")\n",
    "    for row in result:\n",
    "        print(row)\n",
    "\n",
    "finally:\n",
    "    # Menutup kursor dan koneksi\n",
    "    cursor.close()\n",
    "    connection.close()\n"
   ]
  },
  {
   "cell_type": "code",
   "execution_count": 4,
   "id": "6b4f4891",
   "metadata": {},
   "outputs": [
    {
     "name": "stdout",
     "output_type": "stream",
     "text": [
      "\n",
      "Hasil Filter: \n",
      "       Nama Gender  Angkatan  Tinggi Badan  Waktu Perjalanan Wilayah Tinggal\n",
      "0     Ahmad   Male      2022           175                60         Jakarta\n",
      "1     Felix   Male      2023           170                75        Matraman\n",
      "2      Dony   Male      2021           165                54            Bali\n",
      "4    Rayyan   Male      2020           178                50      Kalimantan\n",
      "5   Bambang   Male      2021           165                54           Batam\n",
      "6   Dewanto   Male      2024           171                30         Jakarta\n",
      "9       Jet   Male      2023           170                45          Banten\n",
      "10   Aditya   Male      2021           167                21         Jakarta\n",
      "11     Bayu   Male      2023           182               120           Depok\n",
      "12    Demas   Male      2023           167                34         Jakarta\n",
      "13     Dava   Male      2021           167                56         Jakarta\n"
     ]
    }
   ],
   "source": [
    "import pandas as pd\n",
    "\n",
    "df = pd.DataFrame(result, columns=[desc[0] for desc in cursor.description])\n",
    "\n",
    "df_filtered = df[df['Gender'] == 'Male']\n",
    "\n",
    "print(\"\\nHasil Filter: \")\n",
    "print(df_filtered)"
   ]
  },
  {
   "cell_type": "code",
   "execution_count": null,
   "id": "fb21167d",
   "metadata": {},
   "outputs": [],
   "source": []
  }
 ],
 "metadata": {
  "kernelspec": {
   "display_name": "Python 3 (ipykernel)",
   "language": "python",
   "name": "python3"
  },
  "language_info": {
   "codemirror_mode": {
    "name": "ipython",
    "version": 3
   },
   "file_extension": ".py",
   "mimetype": "text/x-python",
   "name": "python",
   "nbconvert_exporter": "python",
   "pygments_lexer": "ipython3",
   "version": "3.11.4"
  }
 },
 "nbformat": 4,
 "nbformat_minor": 5
}
